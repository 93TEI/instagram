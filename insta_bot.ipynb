{
 "cells": [
  {
   "cell_type": "code",
   "execution_count": 1,
   "metadata": {},
   "outputs": [],
   "source": [
    "#환경셋팅\n",
    "\n",
    "from selenium import webdriver\n",
    "from selenium.webdriver.common.action_chains import ActionChains\n",
    "from selenium.webdriver.common.keys import Keys\n",
    "\n",
    "import time\n",
    "import re\n",
    "import os"
   ]
  },
  {
   "cell_type": "code",
   "execution_count": 22,
   "metadata": {},
   "outputs": [
    {
     "name": "stdout",
     "output_type": "stream",
     "text": [
      "찾을 단어 : iu\n",
      "가져올 태그의 수 : 50\n",
      "#SUZY\n",
      "#수지\n",
      "#온앤오프추천\n",
      "#Nationfirstlove\n",
      "#Baesuzy\n",
      "#netflix\n",
      "#skuukzky\n",
      "#sueweeties\n",
      "#leejongsuk\n",
      "#leeminho\n",
      "#iu\n",
      "#Kpop\n",
      "#kimseonho\n",
      "#Vagabond\n",
      "#Kdrama\n",
      "#Gohaeri\n",
      "#whileyouweresleeping\n",
      "#managementsoop\n",
      "#숲스타그램\n",
      "#parkbogum\n",
      "#ashfall\n",
      "#startup\n",
      "#tvn\n",
      "#wonderland\n",
      "#배가본드\n",
      "#스타트업\n",
      "#원더랜드\n",
      "#배수지\n",
      "#seodalmi\n",
      "#namjoohyuk\n",
      "#draw\n",
      "#sketch\n",
      "#prisma\n",
      "#color\n",
      "#art\n",
      "#illust\n",
      "#drawing\n",
      "#artwork\n",
      "#prismacolor\n",
      "#painting\n",
      "#hair\n",
      "#colorpencil\n",
      "#iu\n",
      "#드로잉\n",
      "#스케치\n",
      "#프리즈마\n",
      "#색연필\n",
      "#일러스트\n",
      "#그림\n",
      "#아이유\n"
     ]
    }
   ],
   "source": [
    "#인스타그램 작업 셋팅\n",
    "\n",
    "search_word = input('찾을 단어 : ')\n",
    "tag_n = input('가져올 태그의 수 : ')\n",
    "\n",
    "#크롬드라이버로 크롬을 새창으로 실행\n",
    "path = \"D:/temp/chromedriver.exe\"\n",
    "driver = webdriver.Chrome(path)\n",
    "action = ActionChains(driver)\n",
    "\n",
    "#로그인 환경\n",
    "_id = 'iu_luv_you'\n",
    "pw = 'testing*iu0713'\n",
    "\n",
    "url = 'https://www.instagram.com/accounts/login/'\n",
    "##driver.find_element_by_link_text('로그인').click()\n",
    "\n",
    "driver.get(url)\n",
    "driver.maximize_window() #창 최대화시키기\n",
    "\n",
    "#페이지 불러오기 전에 위치를 찾아서 생기는 오류를 잡아줌\n",
    "time.sleep(2)\n",
    "\n",
    "#f12로 스크립트를 켜서 아이디부분을 찾아 넣기\n",
    "driver.find_elements_by_css_selector('._2hvTZ.pexuQ.zyHYP')[0].send_keys(_id)\n",
    "driver.find_elements_by_css_selector('._2hvTZ.pexuQ.zyHYP')[1].send_keys(pw)\n",
    "action.key_down(Keys.ENTER).perform()\n",
    "\n",
    "time.sleep(4)\n",
    "url = 'https://www.instagram.com/explore/tags/'+search_word+'/'\n",
    "driver.get(url)\n",
    "\n",
    "#태그 검색했을 때 맨처음사진 클릭\n",
    "driver.find_elements_by_css_selector('._9AhH0')[0].click()\n",
    "\n",
    "time.sleep(3)\n",
    "tags=driver.find_elements_by_css_selector('.xil3i')\n",
    "\n",
    "for i in tags:\n",
    "    print(i.text)\n",
    "\n",
    "#오른쪽 피드로 넘어가기\n",
    "driver.find_element_by_css_selector('._65Bje.coreSpriteRightPaginationArrow').click()\n",
    "\n",
    "time.sleep(3)\n",
    "#태그 긁어오기\n",
    "tags=driver.find_elements_by_css_selector('.xil3i')\n",
    "\n",
    "for i in tags:\n",
    "    print(i.text)\n",
    "    \n",
    "#time.sleep(3)\n",
    "#댓글달기\n",
    "#driver.find_element_by_css_selector('.k_Q0X.I0_K8.NnvRN').send_keys('omg so pretty! follow back plz!')"
   ]
  },
  {
   "cell_type": "code",
   "execution_count": 23,
   "metadata": {},
   "outputs": [
    {
     "name": "stdout",
     "output_type": "stream",
     "text": [
      "20\n"
     ]
    }
   ],
   "source": [
    "print(len(tags))"
   ]
  },
  {
   "cell_type": "code",
   "execution_count": null,
   "metadata": {},
   "outputs": [],
   "source": []
  }
 ],
 "metadata": {
  "kernelspec": {
   "display_name": "Python 3",
   "language": "python",
   "name": "python3"
  }
 },
 "nbformat": 4,
 "nbformat_minor": 4
}
