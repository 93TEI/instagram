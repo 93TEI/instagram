{
 "cells": [
  {
   "cell_type": "code",
   "execution_count": 1,
   "metadata": {},
   "outputs": [],
   "source": [
    "#환경셋팅\n",
    "\n",
    "from selenium import webdriver\n",
    "from selenium.webdriver.common.action_chains import ActionChains\n",
    "from selenium.webdriver.common.keys import Keys\n",
    "\n",
    "import time\n",
    "import re\n",
    "import os"
   ]
  },
  {
   "cell_type": "code",
   "execution_count": 27,
   "metadata": {
    "scrolled": true
   },
   "outputs": [
    {
     "name": "stdout",
     "output_type": "stream",
     "text": [
      "태그 이름 : iu\n"
     ]
    },
    {
     "ename": "IndexError",
     "evalue": "list index out of range",
     "output_type": "error",
     "traceback": [
      "\u001b[1;31m---------------------------------------------------------------------------\u001b[0m",
      "\u001b[1;31mIndexError\u001b[0m                                Traceback (most recent call last)",
      "\u001b[1;32m<ipython-input-27-4696473116d2>\u001b[0m in \u001b[0;36m<module>\u001b[1;34m\u001b[0m\n\u001b[0;32m     33\u001b[0m \u001b[1;33m\u001b[0m\u001b[0m\n\u001b[0;32m     34\u001b[0m \u001b[1;31m#태그 검색했을 때 맨처음사진 클릭\u001b[0m\u001b[1;33m\u001b[0m\u001b[1;33m\u001b[0m\u001b[1;33m\u001b[0m\u001b[0m\n\u001b[1;32m---> 35\u001b[1;33m \u001b[0mdriver\u001b[0m\u001b[1;33m.\u001b[0m\u001b[0mfind_elements_by_css_selector\u001b[0m\u001b[1;33m(\u001b[0m\u001b[1;34m'._9AhH0'\u001b[0m\u001b[1;33m)\u001b[0m\u001b[1;33m[\u001b[0m\u001b[1;36m0\u001b[0m\u001b[1;33m]\u001b[0m\u001b[1;33m.\u001b[0m\u001b[0mclick\u001b[0m\u001b[1;33m(\u001b[0m\u001b[1;33m)\u001b[0m\u001b[1;33m\u001b[0m\u001b[1;33m\u001b[0m\u001b[0m\n\u001b[0m\u001b[0;32m     36\u001b[0m \u001b[1;31m##for i in num_work :\u001b[0m\u001b[1;33m\u001b[0m\u001b[1;33m\u001b[0m\u001b[1;33m\u001b[0m\u001b[0m\n\u001b[0;32m     37\u001b[0m \u001b[1;31m#댓글달기\u001b[0m\u001b[1;33m\u001b[0m\u001b[1;33m\u001b[0m\u001b[1;33m\u001b[0m\u001b[0m\n",
      "\u001b[1;31mIndexError\u001b[0m: list index out of range"
     ]
    }
   ],
   "source": [
    "#인스타그램 작업 셋팅\n",
    "\n",
    "search_tag = input('태그 이름 : ')\n",
    "##num_work = input('작업할 개수 : ')\n",
    "\n",
    "#크롬드라이버로 크롬을 새창으로 실행\n",
    "path = \"D:/temp/chromedriver.exe\"\n",
    "driver = webdriver.Chrome(path)\n",
    "action = ActionChains(driver)\n",
    "\n",
    "#로그인 환경\n",
    "_id = 'iu_luv_you'\n",
    "pw = 'testing*iu0713'\n",
    "url = 'https://www.instagram.com/accounts/login/'\n",
    "##driver.find_element_by_link_text('로그인').click()\n",
    "\n",
    "driver.get(url)\n",
    "#driver.maximize_window() #창 최대화시키기\n",
    "\n",
    "#페이지 불러오기 전에 위치를 찾아서 생기는 오류를 잡아줌\n",
    "time.sleep(2)\n",
    "\n",
    "#f12로 스크립트를 켜서 아이디부분을 찾아 넣기\n",
    "driver.find_elements_by_css_selector('._2hvTZ.pexuQ.zyHYP')[0].send_keys(_id)\n",
    "driver.find_elements_by_css_selector('._2hvTZ.pexuQ.zyHYP')[1].send_keys(pw)\n",
    "action.key_down(Keys.ENTER).perform()\n",
    "\n",
    "time.sleep(3)\n",
    "url = 'https://www.instagram.com/explore/tags/'+search_tag+'/'\n",
    "driver.get(url)\n",
    "\n",
    "#설정한 작업값으로 작업\n",
    "\n",
    "#태그 검색했을 때 맨처음사진 클릭\n",
    "driver.find_elements_by_css_selector('._9AhH0')[0].click()\n",
    "##for i in num_work :\n",
    "#댓글달기\n",
    "time.sleep(2)\n",
    "temp=driver.find_element_by_css_selector('.Ypffh')\n",
    "temp.clear()\n",
    "print(temp.is_enabled())\n",
    "action.key_down(Keys.ENTER).perform()\n",
    "time.sleep(1)\n",
    "#오른쪽 피드로 넘어가기\n",
    "driver.find_element_by_css_selector('._65Bje.coreSpriteRightPaginationArrow').click()\n",
    "\n",
    "\n",
    "\n",
    "########태그 긁어오기 관련\n",
    "'''\n",
    "tag_n = input('가져올 태그의 수 : ')\n",
    "\n",
    "time.sleep(1)\n",
    "#태그 긁어오기\n",
    "tags=driver.find_elements_by_css_selector('.xil3i')\n",
    "\n",
    "for i in tags:\n",
    "    print(i.text)\n",
    "    \n",
    "'''\n"
   ]
  },
  {
   "cell_type": "code",
   "execution_count": null,
   "metadata": {},
   "outputs": [],
   "source": []
  }
 ],
 "metadata": {
  "kernelspec": {
   "display_name": "Python 3",
   "language": "python",
   "name": "python3"
  },
  "language_info": {
   "codemirror_mode": {
    "name": "ipython",
    "version": 3
   },
   "file_extension": ".py",
   "mimetype": "text/x-python",
   "name": "python",
   "nbconvert_exporter": "python",
   "pygments_lexer": "ipython3",
   "version": "3.8.5"
  }
 },
 "nbformat": 4,
 "nbformat_minor": 4
}
