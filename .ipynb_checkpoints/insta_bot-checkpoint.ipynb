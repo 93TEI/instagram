{
 "cells": [
  {
   "cell_type": "code",
   "execution_count": 10,
   "metadata": {},
   "outputs": [],
   "source": [
    "#환경셋팅\n",
    "\n",
    "from selenium import webdriver\n",
    "from selenium.webdriver.common.action_chains import ActionChains\n",
    "from selenium.webdriver.common.keys import Keys\n",
    "\n",
    "import time\n",
    "import re\n",
    "import os"
   ]
  },
  {
   "cell_type": "code",
   "execution_count": 28,
   "metadata": {},
   "outputs": [
    {
     "name": "stdout",
     "output_type": "stream",
     "text": [
      "찾을 단어 : youtube\n",
      "가져올 태그의 수 : 50\n"
     ]
    }
   ],
   "source": [
    "#인스타그램 작업 셋팅\n",
    "\n",
    "search_word = input('찾을 단어 : ')\n",
    "tag_n = input('가져올 태그의 수 : ')\n",
    "\n",
    "#크롬드라이버로 크롬을 새창으로 실행\n",
    "path = \"D:/temp/chromedriver.exe\"\n",
    "driver = webdriver.Chrome(path)\n",
    "action = ActionChains(driver)\n",
    "\n",
    "url = 'https://www.instagram.com/explore/tags/'+search_word+'/'\n",
    "\n",
    "driver.get(url)\n",
    "driver.maximize_window() #창 최대화시키기\n",
    "\n",
    "#로그인 환경\n",
    "_id = ''\n",
    "pw = ''\n",
    "\n",
    "driver.find_element_by_link_text('로그인').click()\n",
    "\n",
    "#페이지 불러오기 전에 위치를 찾아서 생기는 오류를 잡아줌\n",
    "time.sleep(1)\n",
    "\n",
    "#f12로 스크립트를 켜서 아이디부분을 찾아 넣기\n",
    "driver.find_elements_by_css_selector('._2hvTZ.pexuQ.zyHYP')[0].send_keys(_id)\n",
    "driver.find_elements_by_css_selector('._2hvTZ.pexuQ.zyHYP')[1].send_keys(pw)\n",
    "action.key_down(Keys.ENTER).perform()\n",
    "\n",
    "time.sleep(2)\n",
    "driver.get(url)"
   ]
  },
  {
   "cell_type": "code",
   "execution_count": null,
   "metadata": {},
   "outputs": [],
   "source": []
  }
 ],
 "metadata": {
  "kernelspec": {
   "display_name": "Python 3",
   "language": "python",
   "name": "python3"
  },
  "language_info": {
   "codemirror_mode": {
    "name": "ipython",
    "version": 3
   },
   "file_extension": ".py",
   "mimetype": "text/x-python",
   "name": "python",
   "nbconvert_exporter": "python",
   "pygments_lexer": "ipython3",
   "version": "3.8.5"
  }
 },
 "nbformat": 4,
 "nbformat_minor": 4
}
